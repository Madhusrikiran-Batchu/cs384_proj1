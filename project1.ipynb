{
 "cells": [
  {
   "cell_type": "code",
   "execution_count": 2,
   "metadata": {},
   "outputs": [
    {
     "name": "stdout",
     "output_type": "stream",
     "text": [
      "Requirement already satisfied: pysimplegui in d:\\anaconda3\\lib\\site-packages (4.55.1)Note: you may need to restart the kernel to use updated packages.\n",
      "\n"
     ]
    },
    {
     "name": "stderr",
     "output_type": "stream",
     "text": [
      "WARNING: You are using pip version 20.0.2; however, version 21.3.1 is available.\n",
      "You should consider upgrading via the 'D:\\anaconda3\\python.exe -m pip install --upgrade pip' command.\n"
     ]
    }
   ],
   "source": [
    "pip install pysimplegui"
   ]
  },
  {
   "cell_type": "code",
   "execution_count": 5,
   "metadata": {},
   "outputs": [
    {
     "data": {
      "text/plain": [
       "'OK'"
      ]
     },
     "execution_count": 5,
     "metadata": {},
     "output_type": "execute_result"
    }
   ],
   "source": [
    "import PySimpleGUI as sg      \n",
    "\n",
    "layout = [[sg.Text('My one-shot window.')],      \n",
    "                 [sg.InputText()],      \n",
    "                 [sg.Submit(), sg.Cancel()]]      \n",
    "\n",
    "window = sg.Window('Window Title', layout)    \n",
    "\n",
    "event, values = window.read()    \n",
    "window.close()\n",
    "\n",
    "text_input = values[0]    \n",
    "sg.popup('You entered', text_input)"
   ]
  },
  {
   "cell_type": "code",
   "execution_count": 8,
   "metadata": {},
   "outputs": [
    {
     "data": {
      "text/plain": [
       "'OK'"
      ]
     },
     "execution_count": 8,
     "metadata": {},
     "output_type": "execute_result"
    }
   ],
   "source": [
    "import PySimpleGUI as sg      \n",
    "\n",
    "layout = [[sg.Text('Gui for project1 window')],      \n",
    "                 [sg.Button('Browse for Master roll csv')],\n",
    "                 [sg.Button('Browse for Response csv')],\n",
    "                 [sg.Text('Enter the marks for correct and wrong answers')],\n",
    "                 [sg.Text('Marks for correct answers'), sg.InputText()],\n",
    "                 [sg.Text('Marks for wrong answers'), sg.InputText()],\n",
    "                 [sg.Button('Generate Roll no wise marksheet')],\n",
    "                 [sg.Button('Generate consise marksheet')],\n",
    "                 [sg.Submit(), sg.Cancel()]]      \n",
    "\n",
    "window = sg.Window('Window Title', layout)    \n",
    "\n",
    "event, values = window.read()    \n",
    "window.close()\n",
    "\n",
    "text_input = values[0]    \n",
    "sg.popup('You entered', text_input)"
   ]
  }
 ],
 "metadata": {
  "interpreter": {
   "hash": "7b4b4feff2f24a0f0a34464dbe537a36fda679851528fb8735cb41fa49dffb2d"
  },
  "kernelspec": {
   "display_name": "Python 3.8.5 64-bit ('base': conda)",
   "language": "python",
   "name": "python3"
  },
  "language_info": {
   "codemirror_mode": {
    "name": "ipython",
    "version": 3
   },
   "file_extension": ".py",
   "mimetype": "text/x-python",
   "name": "python",
   "nbconvert_exporter": "python",
   "pygments_lexer": "ipython3",
   "version": "3.8.5"
  },
  "orig_nbformat": 4
 },
 "nbformat": 4,
 "nbformat_minor": 2
}
